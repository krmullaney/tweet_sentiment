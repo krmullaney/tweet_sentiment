{
  "cells": [
    {
      "cell_type": "markdown",
      "id": "11cb39f4",
      "metadata": {},
      "source": [
        "Saved as tweet_id_aggregation.ipynb in the project folder"
      ]
    },
    {
      "cell_type": "code",
      "execution_count": null,
      "id": "8bf697b6-e019-490e-8906-ae7435ea3f8b",
      "metadata": {
        "id": "8bf697b6-e019-490e-8906-ae7435ea3f8b"
      },
      "outputs": [],
      "source": [
        "import numpy as np\n",
        "import pandas as pd\n",
        "import os\n",
        "import sys"
      ]
    },
    {
      "cell_type": "code",
      "execution_count": null,
      "id": "62745de0-800b-4d77-a406-66a9142a87f2",
      "metadata": {
        "colab": {
          "base_uri": "https://localhost:8080/"
        },
        "id": "62745de0-800b-4d77-a406-66a9142a87f2",
        "outputId": "05e1d6d1-4698-4947-9462-4f7fc635334b"
      },
      "outputs": [
        {
          "name": "stdout",
          "output_type": "stream",
          "text": [
            "Looking in indexes: https://pypi.org/simple, https://us-python.pkg.dev/colab-wheels/public/simple/\n",
            "Requirement already satisfied: pandasql in /usr/local/lib/python3.7/dist-packages (0.7.3)\n",
            "Requirement already satisfied: sqlalchemy in /usr/local/lib/python3.7/dist-packages (from pandasql) (1.4.43)\n",
            "Requirement already satisfied: numpy in /usr/local/lib/python3.7/dist-packages (from pandasql) (1.21.6)\n",
            "Requirement already satisfied: pandas in /usr/local/lib/python3.7/dist-packages (from pandasql) (1.3.5)\n",
            "Requirement already satisfied: python-dateutil>=2.7.3 in /usr/local/lib/python3.7/dist-packages (from pandas->pandasql) (2.8.2)\n",
            "Requirement already satisfied: pytz>=2017.3 in /usr/local/lib/python3.7/dist-packages (from pandas->pandasql) (2022.6)\n",
            "Requirement already satisfied: six>=1.5 in /usr/local/lib/python3.7/dist-packages (from python-dateutil>=2.7.3->pandas->pandasql) (1.15.0)\n",
            "Requirement already satisfied: greenlet!=0.4.17 in /usr/local/lib/python3.7/dist-packages (from sqlalchemy->pandasql) (2.0.1)\n",
            "Requirement already satisfied: importlib-metadata in /usr/local/lib/python3.7/dist-packages (from sqlalchemy->pandasql) (4.13.0)\n",
            "Requirement already satisfied: zipp>=0.5 in /usr/local/lib/python3.7/dist-packages (from importlib-metadata->sqlalchemy->pandasql) (3.10.0)\n",
            "Requirement already satisfied: typing-extensions>=3.6.4 in /usr/local/lib/python3.7/dist-packages (from importlib-metadata->sqlalchemy->pandasql) (4.1.1)\n"
          ]
        }
      ],
      "source": [
        "!pip install -U pandasql"
      ]
    },
    {
      "cell_type": "code",
      "execution_count": null,
      "id": "0900ba19-ea14-4cb6-a979-129e99508af8",
      "metadata": {
        "id": "0900ba19-ea14-4cb6-a979-129e99508af8"
      },
      "outputs": [],
      "source": [
        "from pandasql import sqldf\n",
        "pysqldf = lambda q: sqldf(q, globals())"
      ]
    },
    {
      "cell_type": "code",
      "execution_count": null,
      "id": "5t_Sa3FfgMo-",
      "metadata": {
        "colab": {
          "base_uri": "https://localhost:8080/"
        },
        "id": "5t_Sa3FfgMo-",
        "outputId": "3b00d90c-d0c8-4576-8803-2c98f0184142"
      },
      "outputs": [
        {
          "name": "stdout",
          "output_type": "stream",
          "text": [
            "Drive already mounted at /content/drive; to attempt to forcibly remount, call drive.mount(\"/content/drive\", force_remount=True).\n"
          ]
        }
      ],
      "source": [
        "# For Colab\n",
        "from google.colab import drive\n",
        "drive.mount('/content/drive')"
      ]
    },
    {
      "cell_type": "code",
      "execution_count": null,
      "id": "lXgIKzKEiMQ3",
      "metadata": {
        "id": "lXgIKzKEiMQ3"
      },
      "outputs": [],
      "source": [
        "path_to_utils='/content/drive/My Drive/NLP'\n",
        "sys.path.append(path_to_utils)"
      ]
    },
    {
      "cell_type": "code",
      "execution_count": null,
      "id": "jCTgy8btiWb_",
      "metadata": {
        "colab": {
          "base_uri": "https://localhost:8080/"
        },
        "id": "jCTgy8btiWb_",
        "outputId": "5edd61dc-972f-4dbd-d56c-f320197081cd"
      },
      "outputs": [
        {
          "name": "stdout",
          "output_type": "stream",
          "text": [
            "/content/drive/.shortcut-targets-by-id/1qJ8h8Q6C6t_FWn4R8pQeH813twKX9HgP/NLP\n"
          ]
        }
      ],
      "source": [
        "os.chdir(path_to_utils)\n",
        "\n",
        "print(os.getcwd())"
      ]
    },
    {
      "cell_type": "code",
      "execution_count": null,
      "id": "3abfd764-1c4e-4a9b-92f5-fd5c292763f8",
      "metadata": {
        "id": "3abfd764-1c4e-4a9b-92f5-fd5c292763f8"
      },
      "outputs": [],
      "source": [
        "# folder = os.getcwd() + '/data/'\n",
        "\n",
        "df1 = pd.read_csv('train_reply_labels_set1.txt', delimiter = \"\\t\", dtype = {'id': str})\n",
        "df2 = pd.read_csv('train_reply_labels_set2.txt', delimiter = \"\\t\", dtype = {'id': str})"
      ]
    },
    {
      "cell_type": "code",
      "execution_count": null,
      "id": "86707961-bf7e-498e-b35f-4828c37ef365",
      "metadata": {
        "id": "86707961-bf7e-498e-b35f-4828c37ef365"
      },
      "outputs": [],
      "source": [
        "dframes = [df1, df2]\n",
        "\n",
        "df_all_temp = pd.concat(dframes)\n",
        "df_all = df_all_temp.copy()"
      ]
    },
    {
      "cell_type": "code",
      "execution_count": null,
      "id": "bd0fef3a-1e4d-4647-a49b-89cbd613a208",
      "metadata": {
        "id": "bd0fef3a-1e4d-4647-a49b-89cbd613a208"
      },
      "outputs": [],
      "source": [
        "# One hot encoding for neutral, positive, negative\n",
        "# for neutral\n",
        "def make_neutral(x):\n",
        "    val = x\n",
        "    if val==\"neutral\":\n",
        "        val = 1\n",
        "    else:\n",
        "        val = 0\n",
        "    return val\n",
        "\n",
        "# for positive\n",
        "def make_pos(x):\n",
        "    val = x\n",
        "    if val==\"positive\":\n",
        "        val = 1\n",
        "    else:\n",
        "        val = 0\n",
        "    return val\n",
        "\n",
        "# for negative\n",
        "def make_neg(x):\n",
        "    val = x\n",
        "    if val==\"negative\":\n",
        "        val = 1\n",
        "    else:\n",
        "        val = 0\n",
        "    return val"
      ]
    },
    {
      "cell_type": "code",
      "execution_count": null,
      "id": "bc758801-4abc-4e81-9c66-b537e220a536",
      "metadata": {
        "id": "bc758801-4abc-4e81-9c66-b537e220a536"
      },
      "outputs": [],
      "source": [
        "df_all['l_neutral'] = df_all['label'].apply(make_neutral)\n",
        "df_all['l_pos'] = df_all['label'].apply(make_pos)\n",
        "df_all['l_neg'] = df_all['label'].apply(make_neg)"
      ]
    },
    {
      "cell_type": "code",
      "execution_count": null,
      "id": "ca81e9af-1081-45a4-aa4c-70abf8f58d3e",
      "metadata": {
        "id": "ca81e9af-1081-45a4-aa4c-70abf8f58d3e"
      },
      "outputs": [],
      "source": [
        "# df_all.head()"
      ]
    },
    {
      "cell_type": "code",
      "execution_count": null,
      "id": "be0b09ae-143c-4774-9737-1c12e97c8ba3",
      "metadata": {
        "id": "be0b09ae-143c-4774-9737-1c12e97c8ba3"
      },
      "outputs": [],
      "source": [
        "# use sudo sql to sum by label and id\n",
        "query = \"SELECT id, SUM(l_neutral) AS Neutral, SUM(l_pos) AS Positive, SUM(l_neg) AS Negative FROM df_all GROUP BY id\"\n",
        "\n",
        "df_pivot = sqldf(query)\n",
        "df_pivot['Total'] = df_pivot['Neutral'] + df_pivot['Positive'] + df_pivot['Negative']\n",
        "# df_pivot.head()"
      ]
    },
    {
      "cell_type": "code",
      "execution_count": null,
      "id": "6793ab1d-dd8e-416c-bd47-495f4333d72a",
      "metadata": {
        "id": "6793ab1d-dd8e-416c-bd47-495f4333d72a"
      },
      "outputs": [],
      "source": [
        "# Function to create labels\n",
        "\n",
        "epsilon = 1e-7 #to avoid dividing by zero\n",
        "\n",
        "def newlabel(row):\n",
        "    if (row['Neutral'] / (row['Total'] + epsilon)) > 0.85:\n",
        "        return 'Neutral'\n",
        "    else:\n",
        "        if row['Positive'] > 1.5 * row['Negative']:\n",
        "            return 'Positive'\n",
        "        elif row['Negative'] > 1.6 * row['Positive']:\n",
        "            return 'Negative'\n",
        "        else:\n",
        "            return 'Neutral'"
      ]
    },
    {
      "cell_type": "code",
      "execution_count": null,
      "id": "cd119277-0d5b-4b6c-9685-ab79841be611",
      "metadata": {
        "id": "cd119277-0d5b-4b6c-9685-ab79841be611"
      },
      "outputs": [],
      "source": [
        "df_label = df_pivot\n",
        "df_label = df_label.copy()"
      ]
    },
    {
      "cell_type": "code",
      "execution_count": null,
      "id": "2757a9e6-afee-4eb1-ab17-152a6e203717",
      "metadata": {
        "id": "2757a9e6-afee-4eb1-ab17-152a6e203717"
      },
      "outputs": [],
      "source": [
        "df_label['new_label'] = df_label.apply(newlabel, axis=1)\n",
        "# df_label.head()"
      ]
    },
    {
      "cell_type": "code",
      "execution_count": null,
      "id": "7e2e24c2-dea2-414a-a0fc-59fe394f62f4",
      "metadata": {
        "id": "7e2e24c2-dea2-414a-a0fc-59fe394f62f4"
      },
      "outputs": [],
      "source": [
        "# df_label.info()"
      ]
    },
    {
      "cell_type": "code",
      "execution_count": null,
      "id": "f9b87eea-112d-49ce-8f22-a522aec48a3a",
      "metadata": {
        "colab": {
          "base_uri": "https://localhost:8080/",
          "height": 424
        },
        "id": "f9b87eea-112d-49ce-8f22-a522aec48a3a",
        "outputId": "a5b56a6c-4ca5-475c-99bb-6a1d4cba29a7"
      },
      "outputs": [
        {
          "data": {
            "text/html": [
              "\n",
              "  <div id=\"df-491a1d2d-5eab-4bbd-b574-f7f56893be40\">\n",
              "    <div class=\"colab-df-container\">\n",
              "      <div>\n",
              "<style scoped>\n",
              "    .dataframe tbody tr th:only-of-type {\n",
              "        vertical-align: middle;\n",
              "    }\n",
              "\n",
              "    .dataframe tbody tr th {\n",
              "        vertical-align: top;\n",
              "    }\n",
              "\n",
              "    .dataframe thead th {\n",
              "        text-align: right;\n",
              "    }\n",
              "</style>\n",
              "<table border=\"1\" class=\"dataframe\">\n",
              "  <thead>\n",
              "    <tr style=\"text-align: right;\">\n",
              "      <th></th>\n",
              "      <th>id</th>\n",
              "      <th>new_label</th>\n",
              "    </tr>\n",
              "  </thead>\n",
              "  <tbody>\n",
              "    <tr>\n",
              "      <th>0</th>\n",
              "      <td>1081277365785976832</td>\n",
              "      <td>Neutral</td>\n",
              "    </tr>\n",
              "    <tr>\n",
              "      <th>1</th>\n",
              "      <td>1081465965601271808</td>\n",
              "      <td>Neutral</td>\n",
              "    </tr>\n",
              "    <tr>\n",
              "      <th>2</th>\n",
              "      <td>1082049696904941568</td>\n",
              "      <td>Neutral</td>\n",
              "    </tr>\n",
              "    <tr>\n",
              "      <th>3</th>\n",
              "      <td>1083563262724186112</td>\n",
              "      <td>Neutral</td>\n",
              "    </tr>\n",
              "    <tr>\n",
              "      <th>4</th>\n",
              "      <td>1084152409255866368</td>\n",
              "      <td>Neutral</td>\n",
              "    </tr>\n",
              "    <tr>\n",
              "      <th>...</th>\n",
              "      <td>...</td>\n",
              "      <td>...</td>\n",
              "    </tr>\n",
              "    <tr>\n",
              "      <th>34516</th>\n",
              "      <td>1233463115611824128</td>\n",
              "      <td>Neutral</td>\n",
              "    </tr>\n",
              "    <tr>\n",
              "      <th>34517</th>\n",
              "      <td>1233485144247459840</td>\n",
              "      <td>Negative</td>\n",
              "    </tr>\n",
              "    <tr>\n",
              "      <th>34518</th>\n",
              "      <td>1233512637276807168</td>\n",
              "      <td>Negative</td>\n",
              "    </tr>\n",
              "    <tr>\n",
              "      <th>34519</th>\n",
              "      <td>1233514593479249921</td>\n",
              "      <td>Neutral</td>\n",
              "    </tr>\n",
              "    <tr>\n",
              "      <th>34520</th>\n",
              "      <td>1233533352352845824</td>\n",
              "      <td>Neutral</td>\n",
              "    </tr>\n",
              "  </tbody>\n",
              "</table>\n",
              "<p>34521 rows × 2 columns</p>\n",
              "</div>\n",
              "      <button class=\"colab-df-convert\" onclick=\"convertToInteractive('df-491a1d2d-5eab-4bbd-b574-f7f56893be40')\"\n",
              "              title=\"Convert this dataframe to an interactive table.\"\n",
              "              style=\"display:none;\">\n",
              "        \n",
              "  <svg xmlns=\"http://www.w3.org/2000/svg\" height=\"24px\"viewBox=\"0 0 24 24\"\n",
              "       width=\"24px\">\n",
              "    <path d=\"M0 0h24v24H0V0z\" fill=\"none\"/>\n",
              "    <path d=\"M18.56 5.44l.94 2.06.94-2.06 2.06-.94-2.06-.94-.94-2.06-.94 2.06-2.06.94zm-11 1L8.5 8.5l.94-2.06 2.06-.94-2.06-.94L8.5 2.5l-.94 2.06-2.06.94zm10 10l.94 2.06.94-2.06 2.06-.94-2.06-.94-.94-2.06-.94 2.06-2.06.94z\"/><path d=\"M17.41 7.96l-1.37-1.37c-.4-.4-.92-.59-1.43-.59-.52 0-1.04.2-1.43.59L10.3 9.45l-7.72 7.72c-.78.78-.78 2.05 0 2.83L4 21.41c.39.39.9.59 1.41.59.51 0 1.02-.2 1.41-.59l7.78-7.78 2.81-2.81c.8-.78.8-2.07 0-2.86zM5.41 20L4 18.59l7.72-7.72 1.47 1.35L5.41 20z\"/>\n",
              "  </svg>\n",
              "      </button>\n",
              "      \n",
              "  <style>\n",
              "    .colab-df-container {\n",
              "      display:flex;\n",
              "      flex-wrap:wrap;\n",
              "      gap: 12px;\n",
              "    }\n",
              "\n",
              "    .colab-df-convert {\n",
              "      background-color: #E8F0FE;\n",
              "      border: none;\n",
              "      border-radius: 50%;\n",
              "      cursor: pointer;\n",
              "      display: none;\n",
              "      fill: #1967D2;\n",
              "      height: 32px;\n",
              "      padding: 0 0 0 0;\n",
              "      width: 32px;\n",
              "    }\n",
              "\n",
              "    .colab-df-convert:hover {\n",
              "      background-color: #E2EBFA;\n",
              "      box-shadow: 0px 1px 2px rgba(60, 64, 67, 0.3), 0px 1px 3px 1px rgba(60, 64, 67, 0.15);\n",
              "      fill: #174EA6;\n",
              "    }\n",
              "\n",
              "    [theme=dark] .colab-df-convert {\n",
              "      background-color: #3B4455;\n",
              "      fill: #D2E3FC;\n",
              "    }\n",
              "\n",
              "    [theme=dark] .colab-df-convert:hover {\n",
              "      background-color: #434B5C;\n",
              "      box-shadow: 0px 1px 3px 1px rgba(0, 0, 0, 0.15);\n",
              "      filter: drop-shadow(0px 1px 2px rgba(0, 0, 0, 0.3));\n",
              "      fill: #FFFFFF;\n",
              "    }\n",
              "  </style>\n",
              "\n",
              "      <script>\n",
              "        const buttonEl =\n",
              "          document.querySelector('#df-491a1d2d-5eab-4bbd-b574-f7f56893be40 button.colab-df-convert');\n",
              "        buttonEl.style.display =\n",
              "          google.colab.kernel.accessAllowed ? 'block' : 'none';\n",
              "\n",
              "        async function convertToInteractive(key) {\n",
              "          const element = document.querySelector('#df-491a1d2d-5eab-4bbd-b574-f7f56893be40');\n",
              "          const dataTable =\n",
              "            await google.colab.kernel.invokeFunction('convertToInteractive',\n",
              "                                                     [key], {});\n",
              "          if (!dataTable) return;\n",
              "\n",
              "          const docLinkHtml = 'Like what you see? Visit the ' +\n",
              "            '<a target=\"_blank\" href=https://colab.research.google.com/notebooks/data_table.ipynb>data table notebook</a>'\n",
              "            + ' to learn more about interactive tables.';\n",
              "          element.innerHTML = '';\n",
              "          dataTable['output_type'] = 'display_data';\n",
              "          await google.colab.output.renderOutput(dataTable, element);\n",
              "          const docLink = document.createElement('div');\n",
              "          docLink.innerHTML = docLinkHtml;\n",
              "          element.appendChild(docLink);\n",
              "        }\n",
              "      </script>\n",
              "    </div>\n",
              "  </div>\n",
              "  "
            ],
            "text/plain": [
              "                        id new_label\n",
              "0      1081277365785976832   Neutral\n",
              "1      1081465965601271808   Neutral\n",
              "2      1082049696904941568   Neutral\n",
              "3      1083563262724186112   Neutral\n",
              "4      1084152409255866368   Neutral\n",
              "...                    ...       ...\n",
              "34516  1233463115611824128   Neutral\n",
              "34517  1233485144247459840  Negative\n",
              "34518  1233512637276807168  Negative\n",
              "34519  1233514593479249921   Neutral\n",
              "34520  1233533352352845824   Neutral\n",
              "\n",
              "[34521 rows x 2 columns]"
            ]
          },
          "execution_count": 17,
          "metadata": {},
          "output_type": "execute_result"
        }
      ],
      "source": [
        "df_forcsv_temp = df_label\n",
        "df_forcsv_temp = df_forcsv_temp.copy()\n",
        "\n",
        "new_cols = ['id', 'new_label']\n",
        "\n",
        "df_forcsv = df_forcsv_temp[new_cols]\n",
        "df_forcsv = df_forcsv.copy()\n",
        "df_forcsv"
      ]
    },
    {
      "cell_type": "code",
      "execution_count": null,
      "id": "20c96913-1e02-4647-bd3e-45e96c20cbce",
      "metadata": {
        "id": "20c96913-1e02-4647-bd3e-45e96c20cbce"
      },
      "outputs": [],
      "source": [
        "# To export to csv\n",
        "# df_forcsv.to_csv('tweet_labels_newcalc.csv', index=False)"
      ]
    }
  ],
  "metadata": {
    "colab": {
      "provenance": []
    },
    "kernelspec": {
      "display_name": "Python 3",
      "language": "python",
      "name": "python3"
    },
    "language_info": {
      "codemirror_mode": {
        "name": "ipython",
        "version": 3
      },
      "file_extension": ".py",
      "mimetype": "text/x-python",
      "name": "python",
      "nbconvert_exporter": "python",
      "pygments_lexer": "ipython3",
      "version": "3.8.2"
    }
  },
  "nbformat": 4,
  "nbformat_minor": 5
}
